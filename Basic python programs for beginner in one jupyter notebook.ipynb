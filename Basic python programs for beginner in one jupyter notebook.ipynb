{
 "cells": [
  {
   "cell_type": "code",
   "execution_count": 2,
   "id": "80a0b585-ef20-4d2b-8430-fa36912b24a9",
   "metadata": {},
   "outputs": [
    {
     "name": "stdin",
     "output_type": "stream",
     "text": [
      "enter a number:- 12\n",
      "enter a number:- 33\n"
     ]
    },
    {
     "name": "stdout",
     "output_type": "stream",
     "text": [
      "they are not equal\n"
     ]
    }
   ],
   "source": [
    "A=int(input(\"enter a number:-\"))       #47\n",
    "B=int(input(\"enter a number:-\"))\n",
    "if(A==B):\n",
    "    print(\"they are equal\")\n",
    "else:\n",
    "    print(\"they are not equal\")\n",
    "    "
   ]
  },
  {
   "cell_type": "code",
   "execution_count": 4,
   "id": "216351ed-ef5b-4ac9-a313-5ebad8b64ce4",
   "metadata": {},
   "outputs": [
    {
     "name": "stdin",
     "output_type": "stream",
     "text": [
      "enter a number:- -1\n"
     ]
    },
    {
     "name": "stdout",
     "output_type": "stream",
     "text": [
      "A is negative\n"
     ]
    }
   ],
   "source": [
    "A=int(input(\"enter a number:-\"))       #48\n",
    "if(A>0):\n",
    "    print(\"A is positive\")\n",
    "else:\n",
    "          print(\"A is negative\")"
   ]
  },
  {
   "cell_type": "code",
   "execution_count": 6,
   "id": "6f9e9b40-9a27-4fd2-8cb4-f034b46528de",
   "metadata": {},
   "outputs": [
    {
     "name": "stdin",
     "output_type": "stream",
     "text": [
      "enter a number:- 3\n"
     ]
    },
    {
     "name": "stdout",
     "output_type": "stream",
     "text": [
      "A is odd number\n"
     ]
    }
   ],
   "source": [
    "A=int(input(\"enter a number:-\"))          # 49\n",
    "if(A%2==0):\n",
    "    print(\"A is even number\")\n",
    "else:\n",
    "    print(\"A is odd number\")"
   ]
  },
  {
   "cell_type": "code",
   "execution_count": 7,
   "id": "dec35255-81f3-4fcc-ba76-8e5f251a62d9",
   "metadata": {},
   "outputs": [
    {
     "name": "stdin",
     "output_type": "stream",
     "text": [
      "enter a number:- 40\n"
     ]
    },
    {
     "name": "stdout",
     "output_type": "stream",
     "text": [
      "A is divisible by 5\n"
     ]
    }
   ],
   "source": [
    "A=int(input(\"enter a number:-\"))        #50\n",
    "if(A%5==0):\n",
    "    print(\"A is divisible by 5\")\n",
    "else:\n",
    "    print(\"A is not divisible ny 5\")"
   ]
  },
  {
   "cell_type": "code",
   "execution_count": 9,
   "id": "d5dd0465-eb85-4033-89ce-67c48f4e79fc",
   "metadata": {},
   "outputs": [
    {
     "name": "stdin",
     "output_type": "stream",
     "text": [
      "enter a number:- 12\n"
     ]
    },
    {
     "name": "stdout",
     "output_type": "stream",
     "text": [
      "12  is not divisible ny 7\n"
     ]
    }
   ],
   "source": [
    "#51\n",
    "A=int(input(\"enter a number:-\"))       \n",
    "if(A%7==0):\n",
    "    print(A,\" is divisible by 7\")\n",
    "else:\n",
    "    print(A,\" is not divisible ny 7\")"
   ]
  },
  {
   "cell_type": "code",
   "execution_count": 22,
   "id": "fb6a213a-29fe-462e-9c5d-6b6c519eb7db",
   "metadata": {},
   "outputs": [
    {
     "name": "stdin",
     "output_type": "stream",
     "text": [
      "enter a number:- 12\n",
      "enter a number:- 33\n",
      "enter a number:- 1\n"
     ]
    },
    {
     "name": "stdout",
     "output_type": "stream",
     "text": [
      "B is greatest\n"
     ]
    }
   ],
   "source": [
    "A=int(input(\"enter a number:-\"))       #53\n",
    "B=int(input(\"enter a number:-\"))\n",
    "C=int(input(\"enter a number:-\"))\n",
    "if(A>B and A>C):\n",
    "    print(\"A is greatest\")\n",
    "elif(B>A and B>C):\n",
    "    print(\"B is greatest\")\n",
    "else:\n",
    "    print(C,\"is greatest\")\n",
    "   \n",
    "   \n",
    "   \n",
    "   \n",
    "   \n",
    "   \n",
    "   \n",
    "   \n",
    "   \n",
    "   \n",
    "   \n",
    "   \n",
    "   \n",
    "   "
   ]
  },
  {
   "cell_type": "code",
   "execution_count": 23,
   "id": "1cb64f97-6b9c-40d2-8ec2-8126f71d8d63",
   "metadata": {},
   "outputs": [
    {
     "name": "stdin",
     "output_type": "stream",
     "text": [
      "enter a number:- 12\n",
      "enter a number:- 33\n",
      "enter a number:- 44\n"
     ]
    },
    {
     "name": "stdout",
     "output_type": "stream",
     "text": [
      "C is greatest\n"
     ]
    }
   ],
   "source": [
    "#54\n",
    "A=int(input(\"enter a number:-\"))       \n",
    "B=int(input(\"enter a number:-\"))\n",
    "C=int(input(\"enter a number:-\"))\n",
    "if(A>B):\n",
    "    if (A>C):\n",
    "        print(\"A is greatest\")\n",
    "if(B>A):\n",
    "    if(B>C):\n",
    "        print(\"B is greatest\")\n",
    "if(C>A):\n",
    "    if(C>B):\n",
    "        print(\"C is greatest\")\n",
    "        \n",
    "        "
   ]
  },
  {
   "cell_type": "code",
   "execution_count": 34,
   "id": "731102b2-5316-47d1-a1ea-999e238d51d2",
   "metadata": {},
   "outputs": [
    {
     "name": "stdin",
     "output_type": "stream",
     "text": [
      "enter your string srishti is WOW\n"
     ]
    },
    {
     "name": "stdout",
     "output_type": "stream",
     "text": [
      " SRISHTI IS wow\n"
     ]
    }
   ],
   "source": [
    "#55\n",
    "A=str(input(\"enter your string\"))\n",
    "B=\" \"\n",
    "for i in range(len(A)):\n",
    "    if A[i].isupper():\n",
    "        B=B+A[i].lower()\n",
    "    else:\n",
    "        B=B+A[i].upper()\n",
    "print(B)\n",
    "    \n",
    "        \n"
   ]
  },
  {
   "cell_type": "code",
   "execution_count": 41,
   "id": "a5be5e9e-a981-457d-bf0c-accd88f0f2e9",
   "metadata": {},
   "outputs": [
    {
     "name": "stdin",
     "output_type": "stream",
     "text": [
      "enter your year:- 2002\n"
     ]
    },
    {
     "name": "stdout",
     "output_type": "stream",
     "text": [
      "2002 Not a leap year\n"
     ]
    }
   ],
   "source": [
    "#56\n",
    "A=int(input(\"enter your year:-\"))\n",
    "if(A%400==0):\n",
    "    if(A%100==0):\n",
    "        print(A,\"is a leap year\")\n",
    "elif(A%4==0):\n",
    "        print(A,\"is a leap year\")\n",
    "else:\n",
    "    print(A,\"Not a leap year\")"
   ]
  },
  {
   "cell_type": "code",
   "execution_count": 6,
   "id": "9ed0f2eb-d970-42b0-ad4c-fdc5909ee0e2",
   "metadata": {},
   "outputs": [
    {
     "name": "stdin",
     "output_type": "stream",
     "text": [
      "enter your alphabet:- A\n"
     ]
    },
    {
     "name": "stdout",
     "output_type": "stream",
     "text": [
      "it is an alphabet\n"
     ]
    }
   ],
   "source": [
    "#57\n",
    "A=input(\"enter your alphabet:-\")\n",
    "A=A.lower()\n",
    "if(A==\"a\"):\n",
    "    print(\"it is an alphabet\")\n",
    "    \n",
    "elif(A==\"e\"):\n",
    "     print(\"it is an vowel\")\n",
    "elif(A==\"i\"):\n",
    "     print(\"it is an vowel\")\n",
    "elif(A==\"o\"):\n",
    "     print(\"it is an vowel\")\n",
    "elif(A==\"u\"):\n",
    "     print(\"it is an vowel\")\n",
    "else:\n",
    "    print(\"not a vowel\")"
   ]
  },
  {
   "cell_type": "code",
   "execution_count": 1,
   "id": "2a292803-1840-462e-bc71-8c7d22f761ed",
   "metadata": {},
   "outputs": [
    {
     "name": "stdin",
     "output_type": "stream",
     "text": [
      "Enter coordinate of X:- -1\n",
      "Enter coordinate of Y:- 2\n"
     ]
    },
    {
     "name": "stdout",
     "output_type": "stream",
     "text": [
      "2nd quadrant\n"
     ]
    }
   ],
   "source": [
    "#58\n",
    "A=int(input(\"Enter coordinate of X:-\"))\n",
    "B=int(input(\"Enter coordinate of Y:-\"))\n",
    "if(A>0 and B>0):\n",
    "    print(\"1st quadrant\")\n",
    "elif(A<0 and B>0):\n",
    "    print(\"2nd quadrant\")\n",
    "elif(A<0 and B<0):\n",
    "    print(\"3rd quadrant\")\n",
    "elif(A>0 and B<0):\n",
    "    print(\"4th quadrant\")"
   ]
  },
  {
   "cell_type": "code",
   "execution_count": 3,
   "id": "96c8981c-7170-4932-8698-749b0b5bd94e",
   "metadata": {},
   "outputs": [
    {
     "name": "stdin",
     "output_type": "stream",
     "text": [
      "enter your number:- 2+3j\n",
      "enter your number:- 33+5j\n"
     ]
    },
    {
     "name": "stdout",
     "output_type": "stream",
     "text": [
      "(35+8j)\n"
     ]
    }
   ],
   "source": [
    "#59\n",
    "A=complex(input(\"enter your number:-\"))\n",
    "B=complex(input(\"enter your number:-\"))\n",
    "Sum=A+B\n",
    "print(Sum)"
   ]
  },
  {
   "cell_type": "code",
   "execution_count": 13,
   "id": "6d9b5c8d-7716-429a-94cf-e60bcef1979a",
   "metadata": {},
   "outputs": [
    {
     "name": "stdin",
     "output_type": "stream",
     "text": [
      "enter coff. of x^2:- 2\n",
      "enter coff.of x:- 4\n",
      "enter coff. -8\n"
     ]
    },
    {
     "name": "stdout",
     "output_type": "stream",
     "text": [
      "2.179449471770337 is root\n",
      "1.6583123951777 is root\n"
     ]
    }
   ],
   "source": [
    "#60\n",
    "#AX**2+BX=C\n",
    "A=int(input(\"enter coff. of x^2:-\"))\n",
    "B=int(input(\"enter coff.of x:-\"))\n",
    "C=int(input(\"enter coff.\"))\n",
    "X1=(((-B+(B*B)-(4*A*C))**0.5))/(2*A)\n",
    "X2=(((-B-(B*B)-(4*A*C))**0.5))/(2*A)\n",
    "print(X1,\"is root\")\n",
    "print(X2,\"is root\")      "
   ]
  },
  {
   "cell_type": "code",
   "execution_count": 22,
   "id": "9738628a-9e51-45e7-9187-70983edcf98c",
   "metadata": {},
   "outputs": [
    {
     "name": "stdin",
     "output_type": "stream",
     "text": [
      "enter initial of your color:- r\n"
     ]
    },
    {
     "name": "stdout",
     "output_type": "stream",
     "text": [
      "Red\n"
     ]
    }
   ],
   "source": [
    "#62\n",
    "A=input(\"enter initial of your color:-\")\n",
    "A=A.upper()\n",
    "if(A==\"R\"):\n",
    "    print(\"Red\")\n",
    "elif(A==\"B\"):\n",
    "    print(\"blue\")\n",
    "elif(A==\"S\"):\n",
    "    print(\"silver\")\n",
    "else:\n",
    "    print(\"TRY ANOTHER\")\n",
    "    \n",
    "    "
   ]
  },
  {
   "cell_type": "code",
   "execution_count": null,
   "id": "38238fde-a183-4697-bdf2-1536e2a4ff37",
   "metadata": {
    "tags": []
   },
   "outputs": [],
   "source": [
    "## 64\n",
    "X=input(\"Enter your figure for which area to be calculated:-\")\n",
    "X=X.lower()\n",
    "if(X==\"circle\"):\n",
    "    R=int(input(\"enter radius:- \"))\n",
    "    A_C=3.14*R*R\n",
    "    print(A_C)\n",
    "elif(X==\"square\"):\n",
    "    S=int(input(\"enter side\"))\n",
    "    A_S=S*S\n",
    "    print(A_S)\n",
    "elif(X==\"rectangle\"):\n",
    "    L=int(input(\"enter length:-\"))\n",
    "    B=int(input(\"enter breadth:-\"))\n",
    "    A_R=L*B\n",
    "    print(A_R)\n",
    "elif(X==\"triangle\"):\n",
    "    BH=int(input(\"enter base:-\"))\n",
    "    H=int(input(\"enter height:-\"))\n",
    "    A_T=0.5*BH*H\n",
    "    print(A_T)\n",
    "    \n",
    "\n"
   ]
  },
  {
   "cell_type": "code",
   "execution_count": 3,
   "id": "40263869-1259-48f7-992f-ef9c94b7499b",
   "metadata": {},
   "outputs": [
    {
     "name": "stdout",
     "output_type": "stream",
     "text": [
      "0 1 2 3 4 5 6 7 8 9 10 "
     ]
    }
   ],
   "source": [
    "#65\n",
    "for i in range(0,11):\n",
    "    print(i,end=\" \")"
   ]
  },
  {
   "cell_type": "code",
   "execution_count": 10,
   "id": "e3ed5f20-ecde-494c-8f9e-336b04d690b4",
   "metadata": {},
   "outputs": [
    {
     "name": "stdout",
     "output_type": "stream",
     "text": [
      "2 4 6 8 10 12 14 16 18 20 "
     ]
    }
   ],
   "source": [
    "#66\n",
    "for n in range(1,21):\n",
    "    if(n%2==0):\n",
    "        print(n,end=\" \")"
   ]
  },
  {
   "cell_type": "code",
   "execution_count": 12,
   "id": "1e17a1ad-153f-4689-adc6-3e2f42e15619",
   "metadata": {},
   "outputs": [
    {
     "name": "stdout",
     "output_type": "stream",
     "text": [
      "1 3 5 7 9 11 13 15 17 19 "
     ]
    }
   ],
   "source": [
    "#67\n",
    "for n in range(0,20):\n",
    "    if(n%2!=0):\n",
    "        print(n,end=\" \")"
   ]
  },
  {
   "cell_type": "code",
   "execution_count": 15,
   "id": "e4ab6b04-a8fa-4f46-ba9c-aed278add1f8",
   "metadata": {},
   "outputs": [
    {
     "name": "stdout",
     "output_type": "stream",
     "text": [
      "7 14 21 28 35 42 49 56 63 70 77 84 91 98 "
     ]
    }
   ],
   "source": [
    "#68\n",
    "for i in range(1,101):\n",
    "    if(i%7==0):\n",
    "        print(i,end=\" \")"
   ]
  },
  {
   "cell_type": "code",
   "execution_count": 29,
   "id": "ec0f4d31-034d-47ad-93e3-7538b8be68b9",
   "metadata": {},
   "outputs": [
    {
     "name": "stdout",
     "output_type": "stream",
     "text": [
      "2* 1 = 2\n",
      "2* 2 = 4\n",
      "2* 3 = 6\n",
      "2* 4 = 8\n",
      "2* 5 = 10\n",
      "2* 6 = 12\n",
      "2* 7 = 14\n",
      "2* 8 = 16\n",
      "2* 9 = 18\n",
      "2* 10 = 20\n"
     ]
    }
   ],
   "source": [
    "#69\n",
    "for i in range(1,11):\n",
    "    C=2*i\n",
    "    print(\"2*\",i, \"=\",C)\n",
    "    "
   ]
  },
  {
   "cell_type": "code",
   "execution_count": 25,
   "id": "fc3aba80-92c3-453b-b5f1-89ef07a72066",
   "metadata": {},
   "outputs": [
    {
     "name": "stdout",
     "output_type": "stream",
     "text": [
      "5\n",
      "10\n",
      "15\n",
      "20\n",
      "25\n",
      "30\n",
      "35\n",
      "40\n",
      "45\n",
      "50\n"
     ]
    }
   ],
   "source": [
    "#70\n",
    "for i in range(1,11):\n",
    "    C=5*i\n",
    "    print(C)"
   ]
  },
  {
   "cell_type": "code",
   "execution_count": 34,
   "id": "1d9a2ea7-169e-46e2-a6ba-43030453d892",
   "metadata": {},
   "outputs": [
    {
     "name": "stdin",
     "output_type": "stream",
     "text": [
      "enter a number 100\n"
     ]
    },
    {
     "name": "stdout",
     "output_type": "stream",
     "text": [
      "100\n",
      "200\n",
      "300\n",
      "400\n",
      "500\n",
      "600\n",
      "700\n",
      "800\n",
      "900\n"
     ]
    }
   ],
   "source": [
    "#71\n",
    "a=int(input(\"enter a number\"))\n",
    "for i in range(1,11):\n",
    "    C=a*i\n",
    "    print(C)\n",
    "      "
   ]
  },
  {
   "cell_type": "code",
   "execution_count": 33,
   "id": "8ac1a338-48ac-4afa-8f99-b8db890123c6",
   "metadata": {},
   "outputs": [
    {
     "name": "stdout",
     "output_type": "stream",
     "text": [
      "5* 1 = 5\n",
      "5* 2 = 10\n",
      "5* 3 = 15\n",
      "5* 4 = 20\n",
      "5* 5 = 25\n",
      "5* 6 = 30\n",
      "5* 7 = 35\n",
      "5* 8 = 40\n",
      "5* 9 = 45\n",
      "5* 10 = 50\n"
     ]
    }
   ],
   "source": [
    "#72\n",
    "for i in range (1,11):\n",
    "    c=5*i\n",
    "    print(\"5*\",i,\"=\",c)"
   ]
  },
  {
   "cell_type": "code",
   "execution_count": 44,
   "id": "cb9989c9-5aa4-4dc8-ab65-a5ab0a5f6a86",
   "metadata": {},
   "outputs": [
    {
     "name": "stdin",
     "output_type": "stream",
     "text": [
      "enter a number:- 1\n"
     ]
    },
    {
     "name": "stdout",
     "output_type": "stream",
     "text": [
      "2\n"
     ]
    }
   ],
   "source": [
    "#73\n",
    "a=int(input(\"enter a number:-\"))\n",
    "sum=0\n",
    "for i in range(0,a+1):\n",
    "    sum=sum+i\n",
    "print(sum)"
   ]
  },
  {
   "cell_type": "code",
   "execution_count": 51,
   "id": "973f495d-44a3-44c1-9c0a-09a812d36845",
   "metadata": {},
   "outputs": [
    {
     "name": "stdin",
     "output_type": "stream",
     "text": [
      "enter a number:- 4\n"
     ]
    },
    {
     "name": "stdout",
     "output_type": "stream",
     "text": [
      "24\n"
     ]
    }
   ],
   "source": [
    "#74\n",
    "a=int(input(\"enter a number:-\"))\n",
    "i=1\n",
    "fact=1\n",
    "for i in range(1,a+1):\n",
    "    fact=fact*i\n",
    "    i=i+1\n",
    "print(fact)"
   ]
  },
  {
   "cell_type": "code",
   "execution_count": 52,
   "id": "3e442846-6b87-433e-a5ad-b41636f7b7aa",
   "metadata": {},
   "outputs": [
    {
     "name": "stdin",
     "output_type": "stream",
     "text": [
      "enter a number 4\n"
     ]
    },
    {
     "name": "stdout",
     "output_type": "stream",
     "text": [
      "24\n"
     ]
    }
   ],
   "source": [
    "#75\n",
    "a=int(input(\"enter a number\"))\n",
    "i=1\n",
    "fact=1\n",
    "while(i<=a):\n",
    "    fact=fact*i\n",
    "    i=i+1\n",
    "print(fact)"
   ]
  },
  {
   "cell_type": "code",
   "execution_count": 17,
   "id": "445c1fd8-c10c-4477-b4b8-f7f686a8a54b",
   "metadata": {},
   "outputs": [
    {
     "name": "stdin",
     "output_type": "stream",
     "text": [
      "enter a number:- 343\n"
     ]
    },
    {
     "name": "stdout",
     "output_type": "stream",
     "text": [
      "10\n"
     ]
    }
   ],
   "source": [
    "#75\n",
    "a=int(input(\"enter a number:-\"))\n",
    "sum_1=0\n",
    "while(a>0):\n",
    "    D=a%10\n",
    "    sum_1=sum_1+D\n",
    "    a=a//10\n",
    "print(sum_1)"
   ]
  },
  {
   "cell_type": "code",
   "execution_count": 2,
   "id": "77632745-a78e-4e9f-837d-2191f3cc656f",
   "metadata": {},
   "outputs": [
    {
     "name": "stdin",
     "output_type": "stream",
     "text": [
      "enter a number:- 302\n"
     ]
    },
    {
     "name": "stdout",
     "output_type": "stream",
     "text": [
      "203\n"
     ]
    }
   ],
   "source": [
    "#77\n",
    "a=int(input(\"enter a number:-\"))\n",
    "count=0\n",
    "while(a>0):\n",
    "    D=a%10\n",
    "    count=count*10+D\n",
    "    a=a//10\n",
    "print(count)\n"
   ]
  },
  {
   "cell_type": "code",
   "execution_count": 5,
   "id": "429ac263-0aab-40cc-9232-0e64e25db9e4",
   "metadata": {},
   "outputs": [
    {
     "name": "stdin",
     "output_type": "stream",
     "text": [
      "enter a number:- 2\n"
     ]
    }
   ],
   "source": [
    "#78\n",
    "a=int(input(\"enter a number:-\"))\n"
   ]
  },
  {
   "cell_type": "code",
   "execution_count": 3,
   "id": "f04dd8dd-40b1-413d-a302-9b011899cef7",
   "metadata": {},
   "outputs": [
    {
     "name": "stdin",
     "output_type": "stream",
     "text": [
      "enter a number:- 13131\n"
     ]
    },
    {
     "name": "stdout",
     "output_type": "stream",
     "text": [
      "no\n"
     ]
    }
   ],
   "source": [
    "#78\n",
    "a=int(input(\"enter a number:-\"))\n",
    "i=1\n",
    "sum=0\n",
    "while(i<a):\n",
    "    if a%i==0:\n",
    "        sum=sum+i\n",
    "    i=i+1\n",
    "if(sum==a):\n",
    "    print(\"perfect number\")\n",
    "else:\n",
    "    print(\"no\")\n",
    "        \n",
    "   \n",
    "\n"
   ]
  },
  {
   "cell_type": "code",
   "execution_count": 5,
   "id": "c30093fc-300a-477a-952c-7497b236f468",
   "metadata": {},
   "outputs": [
    {
     "name": "stdin",
     "output_type": "stream",
     "text": [
      "enter a number:- 175\n"
     ]
    }
   ],
   "source": [
    "#79                                      #############################################################\n",
    "                                           #######################################################\n",
    "#175=1^1+7^2+5^3=175\n",
    "a=int(input(\"enter a number:-\"))\n",
    "sum=0\n",
    "for i in range(3,0):\n",
    "    D=a%10\n",
    "    sum=sum+D**i\n",
    "    print(sum)\n",
    "if(sum==a):\n",
    "    print(\"dissarium\")"
   ]
  },
  {
   "cell_type": "code",
   "execution_count": 6,
   "id": "85944339-e267-49c3-a333-eaab5e77ec5b",
   "metadata": {},
   "outputs": [
    {
     "name": "stdin",
     "output_type": "stream",
     "text": [
      "enter a number:- 6804\n"
     ]
    },
    {
     "name": "stdout",
     "output_type": "stream",
     "text": [
      "harshad\n"
     ]
    }
   ],
   "source": [
    "#80\n",
    "a=int(input(\"enter a number:-\"))\n",
    "num=a\n",
    "sum=0\n",
    "while(a>0):\n",
    "    D=a%10\n",
    "    sum=sum+D\n",
    "    a=a//10\n",
    "if(num %sum==0):\n",
    "    print(\"harshad\")\n",
    "else:\n",
    "    print(\"no harshad \")\n"
   ]
  },
  {
   "cell_type": "code",
   "execution_count": 41,
   "id": "1d708261-dbdf-4e59-bc44-46f4d4044c3a",
   "metadata": {},
   "outputs": [
    {
     "name": "stdin",
     "output_type": "stream",
     "text": [
      "enter a number:- 154\n"
     ]
    },
    {
     "name": "stdout",
     "output_type": "stream",
     "text": [
      "190\n",
      "not an armstrong\n"
     ]
    }
   ],
   "source": [
    "#81\n",
    "a=int(input(\"enter a number:-\"))\n",
    "num=a\n",
    "sum_1=0\n",
    "while(a>0):\n",
    "    D=a%10\n",
    "    sum_1=sum_1+D*D*D\n",
    "    a=a//10\n",
    "print(sum_1)\n",
    "if (num==sum_1):\n",
    "    print(\"Armstrong\")\n",
    "else:\n",
    "    print(\"not an armstrong\")"
   ]
  },
  {
   "cell_type": "code",
   "execution_count": 1,
   "id": "4149669b-c222-4992-b184-d948938b18d3",
   "metadata": {},
   "outputs": [
    {
     "name": "stdin",
     "output_type": "stream",
     "text": [
      "enter a value for X:- 4\n",
      "enter avalue fo n:- 2\n"
     ]
    },
    {
     "name": "stdout",
     "output_type": "stream",
     "text": [
      "16\n"
     ]
    }
   ],
   "source": [
    "## 82\n",
    "X=int(input(\"enter a value for X:-\"))\n",
    "n=int(input(\"enter avalue fo n:-\"))\n",
    "M=X**n\n",
    "print(M)\n"
   ]
  },
  {
   "cell_type": "code",
   "execution_count": 10,
   "id": "5a3ba3d8-1afa-44ab-b0f7-8b864703ed01",
   "metadata": {},
   "outputs": [
    {
     "name": "stdin",
     "output_type": "stream",
     "text": [
      "enter value of n:- 5\n",
      "enter value of r:- 4\n"
     ]
    },
    {
     "name": "stdout",
     "output_type": "stream",
     "text": [
      "120\n"
     ]
    }
   ],
   "source": [
    "#83\n",
    "n=int(input(\"enter value of n:-\"))\n",
    "r=int(input(\"enter value of r:-\"))\n",
    "fact=1\n",
    "i=1\n",
    "while(i<=n):\n",
    "    fact=fact*i\n",
    "    i=i+1\n",
    "Q=(fact)\n",
    "\n",
    "m=n-r\n",
    "fact_1=1\n",
    "j=1\n",
    "while(j<=m):\n",
    "    fact_1=fact_1*j\n",
    "    j=j+1\n",
    "R=(fact_1)\n",
    "\n",
    "fact_2=1\n",
    "k=1\n",
    "while(k>=r):\n",
    "    fact_2=fact_2*k\n",
    "    k=k+1\n",
    "W=(fact_2)\n",
    "\n",
    "print(Q//(R*W))\n",
    "\n"
   ]
  },
  {
   "cell_type": "code",
   "execution_count": 25,
   "id": "546064b4-2864-49f9-b83f-4dcadf4cde6d",
   "metadata": {},
   "outputs": [
    {
     "name": "stdin",
     "output_type": "stream",
     "text": [
      "enter value upto which you want fibonacci series 10\n"
     ]
    },
    {
     "name": "stdout",
     "output_type": "stream",
     "text": [
      "0\n",
      "1\n",
      "1\n",
      "2\n",
      "3\n",
      "5\n",
      "8\n",
      "13\n",
      "21\n",
      "34\n"
     ]
    }
   ],
   "source": [
    "#84,0,1,1,2,3,,5,8,13.......\n",
    "n=int(input(\"enter value upto which you want fibonacci series\"))\n",
    "\n",
    "a=-1\n",
    "b=1\n",
    "i=1\n",
    "while(i<=n):\n",
    "    c=a+b\n",
    "    a=b\n",
    "    b=c\n",
    "    i=i+1\n",
    "    print(c)\n",
    "    "
   ]
  },
  {
   "cell_type": "code",
   "execution_count": 14,
   "id": "7a1f5ea2-ccb4-444c-a2a0-441865f803aa",
   "metadata": {},
   "outputs": [
    {
     "name": "stdout",
     "output_type": "stream",
     "text": [
      "1\n",
      "2\n",
      "3\n",
      "4\n",
      "5\n",
      "6\n",
      "7\n",
      "8\n",
      "9\n",
      "10\n"
     ]
    }
   ],
   "source": [
    "#85\n",
    "for i in range (1,11):\n",
    "    print(i)"
   ]
  },
  {
   "cell_type": "code",
   "execution_count": 1,
   "id": "912a055c-0db4-471e-b79b-008883d756b9",
   "metadata": {},
   "outputs": [
    {
     "name": "stdin",
     "output_type": "stream",
     "text": [
      "enter number:- 121\n"
     ]
    },
    {
     "name": "stdout",
     "output_type": "stream",
     "text": [
      "121\n",
      "pallindrome\n"
     ]
    }
   ],
   "source": [
    "#86\n",
    "n=int ( input(\"enter number:-\"))\n",
    "num=n\n",
    "sum=0\n",
    "while(n>0):\n",
    "    d=n%10\n",
    "    sum=sum*10+d\n",
    "    n=n//10\n",
    "print(sum)\n",
    "\n",
    "if(num==sum):\n",
    "    print(\"pallindrome\")\n",
    "else:\n",
    "    print(\"not a pallindrome\")"
   ]
  },
  {
   "cell_type": "code",
   "execution_count": 24,
   "id": "cd6f528c-a31a-4a51-8424-29b1fb5dc87b",
   "metadata": {},
   "outputs": [
    {
     "name": "stdin",
     "output_type": "stream",
     "text": [
      "enter a number:- 143\n"
     ]
    },
    {
     "name": "stdout",
     "output_type": "stream",
     "text": [
      "92\n",
      "not an armstrong\n"
     ]
    }
   ],
   "source": [
    "#87\n",
    "n=int(input(\"enter a number:-\"))\n",
    "num=n\n",
    "sum=0\n",
    "while(n>0):\n",
    "    d=n%10\n",
    "    sum=sum+(d*d*d)\n",
    "    n=n//10\n",
    "print(sum)\n",
    "if(num==sum):\n",
    "    print(\"armstrong number\")\n",
    "else:\n",
    "    print(\"not an armstrong\")"
   ]
  },
  {
   "cell_type": "code",
   "execution_count": 31,
   "id": "ec733e2d-b2a7-4473-88e6-399c63a6ac8c",
   "metadata": {},
   "outputs": [
    {
     "name": "stdin",
     "output_type": "stream",
     "text": [
      "enter anumber:- 10\n"
     ]
    },
    {
     "name": "stdout",
     "output_type": "stream",
     "text": [
      "not a perfect number\n"
     ]
    }
   ],
   "source": [
    "#88\n",
    "#number whose sum of factor is equal to the number are called perfect number(example-6)\n",
    "n=int(input(\"enter anumber:-\"))\n",
    "i=1\n",
    "sum=0\n",
    "while(i<n):\n",
    "    if(n%i==0):\n",
    "        sum=sum+i\n",
    "    i=i+1\n",
    "if(sum==n):\n",
    "    print(\"perfect number\")\n",
    "else:\n",
    "    print(\"not a perfect number\")\n"
   ]
  },
  {
   "cell_type": "code",
   "execution_count": 40,
   "id": "894b861d-85cd-40ee-8541-342a82498684",
   "metadata": {},
   "outputs": [
    {
     "name": "stdin",
     "output_type": "stream",
     "text": [
      "enter a number:- 1\n"
     ]
    },
    {
     "name": "stdout",
     "output_type": "stream",
     "text": [
      "not a prime number\n"
     ]
    }
   ],
   "source": [
    "#89\n",
    "n=int(input(\"enter a number:-\"))\n",
    "c=0\n",
    "for i in range(1,n+1):\n",
    "    if(n%i==0):\n",
    "        c=c+1\n",
    "if c==2:\n",
    "    print(\"prime number\")\n",
    "else:\n",
    "    print(\"not a prime number\")\n"
   ]
  },
  {
   "cell_type": "code",
   "execution_count": 18,
   "id": "165808b1-5bf5-4a75-9658-28929f3f462f",
   "metadata": {},
   "outputs": [
    {
     "name": "stdin",
     "output_type": "stream",
     "text": [
      "enter starting number:- 1\n",
      "enter the end of the interval:- 10\n"
     ]
    },
    {
     "name": "stdout",
     "output_type": "stream",
     "text": [
      "2 3 5 7 "
     ]
    }
   ],
   "source": [
    "#90\n",
    "a=int(input(\"enter starting number:-\"))\n",
    "b=int(input(\"enter the end of the interval:-\"))\n",
    "for i in range (a,b+1):\n",
    "    if i>1:\n",
    "        for n in range(2,i):\n",
    "            if i%n==0:\n",
    "                break\n",
    "        else:\n",
    "                print(i,end=\" \")\n",
    "            "
   ]
  },
  {
   "cell_type": "code",
   "execution_count": 23,
   "id": "81db85fd-7e15-4092-9771-8fa809c63830",
   "metadata": {},
   "outputs": [
    {
     "name": "stdout",
     "output_type": "stream",
     "text": [
      "13\n"
     ]
    }
   ],
   "source": [
    "#91\n",
    "sum=0\n",
    "for i in range(1,10):\n",
    "    c=0\n",
    "    for j in range(1,i+1):\n",
    "        if(i%j==0):\n",
    "            c=c+1\n",
    "    if(c==2):\n",
    "        sum+=i\n",
    "        \n",
    "print(sum)"
   ]
  },
  {
   "cell_type": "code",
   "execution_count": 2,
   "id": "a21b10d4-ff10-498a-aabd-5a9092b31acd",
   "metadata": {},
   "outputs": [
    {
     "name": "stdout",
     "output_type": "stream",
     "text": [
      "# # # # # \n",
      "# # # # # \n",
      "# # # # # \n",
      "# # # # # \n"
     ]
    }
   ],
   "source": [
    "#92\n",
    "for i in range(4):\n",
    "    for j in range(5):\n",
    "        print(\"#\",end=\" \")\n",
    "    print()\n",
    "        \n",
    "    "
   ]
  },
  {
   "cell_type": "code",
   "execution_count": 4,
   "id": "296421a9-6517-492b-a3b1-0cb4dddf7000",
   "metadata": {},
   "outputs": [
    {
     "name": "stdout",
     "output_type": "stream",
     "text": [
      "\n",
      "* \n",
      "* * \n",
      "* * * \n",
      "* * * * \n",
      "* * * * * \n"
     ]
    }
   ],
   "source": [
    "#93\n",
    "for i in range(6):\n",
    "    for j in range(i):\n",
    "        print(\"*\",end=\" \")\n",
    "    print()"
   ]
  },
  {
   "cell_type": "code",
   "execution_count": 11,
   "id": "fdab9df4-64ea-4a5b-ad7d-edfe07716da8",
   "metadata": {},
   "outputs": [
    {
     "name": "stdout",
     "output_type": "stream",
     "text": [
      "1 \n",
      "1 2 \n",
      "1 2 3 \n",
      "1 2 3 4 \n",
      "1 2 3 4 5 \n"
     ]
    }
   ],
   "source": [
    "#94\n",
    "for i in range(5):\n",
    "    for j in range(i+1):\n",
    "        print(j+1,end=\" \")\n",
    "    print()\n",
    "    "
   ]
  },
  {
   "cell_type": "code",
   "execution_count": 6,
   "id": "3c58773c-3d39-4cdc-beb3-3327485f1524",
   "metadata": {},
   "outputs": [
    {
     "name": "stdout",
     "output_type": "stream",
     "text": [
      "\n",
      "1  \n",
      "2  2  \n",
      "3  3  3  \n",
      "4  4  4  4  \n",
      "5  5  5  5  5  \n"
     ]
    }
   ],
   "source": [
    "#95\n",
    "for i in range(6):\n",
    "    for j in range(i):\n",
    "        print(i,end=\"  \")\n",
    "    print()\n"
   ]
  },
  {
   "cell_type": "code",
   "execution_count": 24,
   "id": "522f5bd2-609c-4896-903b-c802622087fb",
   "metadata": {},
   "outputs": [
    {
     "name": "stdout",
     "output_type": "stream",
     "text": [
      "A \n",
      "B B \n",
      "C C C \n",
      "D D D D \n",
      "E E E E E \n",
      "E \n",
      "D D \n",
      "C C C \n",
      "B B B B \n",
      "A A A A A \n"
     ]
    }
   ],
   "source": [
    "#96(same character in each row)\n",
    "k=ord(\"A\")\n",
    "for i in range(5):\n",
    "    for j in range(i+1):\n",
    "        print(chr(k),end=\" \")\n",
    "    k=k+1\n",
    "    print()\n",
    "    \n",
    "#optional,example\n",
    "k=ord(\"E\")\n",
    "for i in range(5):\n",
    "    for j in range(i+1):\n",
    "        print(chr(k),end=\" \")\n",
    "    k=k-1\n",
    "    print()"
   ]
  },
  {
   "cell_type": "code",
   "execution_count": 5,
   "id": "7a5e00c6-b64e-435e-95b7-5b97bcd21ba6",
   "metadata": {},
   "outputs": [
    {
     "name": "stdout",
     "output_type": "stream",
     "text": [
      "* * * * * \n",
      "* * * * \n",
      "* * * \n",
      "* * \n",
      "* \n"
     ]
    }
   ],
   "source": [
    "#97\n",
    "for i in range(5):\n",
    "    for j in range(i,5):\n",
    "        print(\"*\",end=\" \")\n",
    "    print()"
   ]
  },
  {
   "cell_type": "code",
   "execution_count": 9,
   "id": "1123d84c-3cc3-4310-9a39-ebe7500db30a",
   "metadata": {},
   "outputs": [
    {
     "name": "stdout",
     "output_type": "stream",
     "text": [
      "1 2 3 4 5 \n",
      "1 2 3 4 \n",
      "1 2 3 \n",
      "1 2 \n",
      "1 \n"
     ]
    }
   ],
   "source": [
    "#98\n",
    "for i in range(5):\n",
    "    p=1\n",
    "    for j in range(i,5):\n",
    "        print(j,end=\" \")\n",
    "        p=p+1\n",
    "    print()"
   ]
  },
  {
   "cell_type": "code",
   "execution_count": 1,
   "id": "ff72463a-57bc-4b86-8724-2a31ad794865",
   "metadata": {},
   "outputs": [
    {
     "name": "stdout",
     "output_type": "stream",
     "text": [
      "          * \n",
      "        * * * \n",
      "      * * * * * \n",
      "    * * * * * * * \n",
      "  * * * * * * * * * \n"
     ]
    }
   ],
   "source": [
    "#hill pattern(for print the one top * we need to print one coulum less so remove \"i+1\" to \"i\")\n",
    "#99\n",
    "n=5\n",
    "for i in range(n):\n",
    "    for j in range(i,n):\n",
    "        print(\" \",end=\" \")\n",
    "    for j in range(i):\n",
    "        print(\"*\",end=\" \")\n",
    "    for j in range(i+1):\n",
    "        print(\"*\",end=\" \")\n",
    "    print()\n"
   ]
  },
  {
   "cell_type": "code",
   "execution_count": 11,
   "id": "e4bd869d-01d7-4d54-8d57-b79aa5b5d7c7",
   "metadata": {},
   "outputs": [
    {
     "name": "stdout",
     "output_type": "stream",
     "text": [
      "      0 \n",
      "    0 0 1 \n",
      "  0 1 0 1 2 \n"
     ]
    }
   ],
   "source": [
    "#100(not done)\n",
    "n=3\n",
    "for i in range(n):\n",
    "    for j in range(i,n):\n",
    "        print(\" \",end=\" \")\n",
    "    for j in range(i):\n",
    "        print(j,end=\" \")\n",
    "    for j in range(i+1):\n",
    "        print(j,end=\" \")\n",
    "    print()\n"
   ]
  },
  {
   "cell_type": "code",
   "execution_count": 28,
   "id": "24373473-3e9d-482c-9511-ce6f6114ee69",
   "metadata": {},
   "outputs": [
    {
     "name": "stdout",
     "output_type": "stream",
     "text": [
      "  * * * * * * * * * \n",
      "    * * * * * * * \n",
      "      * * * * * \n",
      "        * * * \n",
      "          * \n"
     ]
    }
   ],
   "source": [
    "#reverse hill pattern\n",
    "#101\n",
    "n=5\n",
    "for i in range(n):\n",
    "    for j in range(i+1):\n",
    "        print(\" \",end=\" \")\n",
    "    for j in range(i,n-1):\n",
    "        print(\"*\",end=\" \")\n",
    "    for j in range(i,n):\n",
    "        print(\"*\",end=\" \")\n",
    "    print()\n",
    "        "
   ]
  },
  {
   "cell_type": "code",
   "execution_count": null,
   "id": "fb3bc14b-965e-4343-9243-f405b69799bc",
   "metadata": {},
   "outputs": [],
   "source": [
    "#102 pascal triangle\n"
   ]
  },
  {
   "cell_type": "code",
   "execution_count": 12,
   "id": "fd5d7d3b-0eb6-4ab8-9045-eb6cd85b4a2b",
   "metadata": {},
   "outputs": [
    {
     "name": "stdin",
     "output_type": "stream",
     "text": [
      "enter number 9\n"
     ]
    },
    {
     "name": "stdout",
     "output_type": "stream",
     "text": [
      "* * * * * * * * * * * * * * * * * * \n",
      "* * * * * * * *     * * * * * * * * \n",
      "* * * * * * *         * * * * * * * \n",
      "* * * * * *             * * * * * * \n",
      "* * * * *                 * * * * * \n",
      "* * * *                     * * * * \n",
      "* * *                         * * * \n",
      "* *                             * * \n",
      "*                                 * \n"
     ]
    }
   ],
   "source": [
    "#107\n",
    "n=int(input(\"enter number\"))\n",
    "for i in range(n):\n",
    "    for j in range(i,n):\n",
    "        print(\"*\",end=\" \")\n",
    "    for j in range(i):\n",
    "        print(\" \",end=\" \")\n",
    "    for j in range(i):\n",
    "        print(\" \",end=\" \")\n",
    "    for j in range(i,n):\n",
    "        print(\"*\",end=\" \")\n",
    "    print()\n",
    "            "
   ]
  },
  {
   "cell_type": "code",
   "execution_count": 45,
   "id": "6b858981-b9e3-4b61-a57e-92baa8baf8e1",
   "metadata": {},
   "outputs": [
    {
     "name": "stdout",
     "output_type": "stream",
     "text": [
      "      * \n",
      "    * * * \n",
      "  * * * * * \n",
      "    * * * \n",
      "      * \n"
     ]
    }
   ],
   "source": [
    "#diamond\n",
    "#108\n",
    "n=3\n",
    "for i in range(n-1):\n",
    "    for j in range(i,n):\n",
    "        print(\" \",end=\" \")\n",
    "    for j in range(i):\n",
    "        print(\"*\",end=\" \")\n",
    "    for j in range(i+1):\n",
    "        print(\"*\",end=\" \")\n",
    "    print()\n",
    "    \n",
    "for i in range(n):\n",
    "    for j in range(i+1):\n",
    "        print(\" \",end=\" \")\n",
    "    for j in range(i,n-1):\n",
    "        print(\"*\",end=\" \")\n",
    "    for j in range(i,n):\n",
    "        print(\"*\",end=\" \")\n",
    "    print()\n",
    "    "
   ]
  },
  {
   "cell_type": "code",
   "execution_count": 1,
   "id": "57bfcafb-f2cf-4a2f-a432-a4d42c624e0c",
   "metadata": {},
   "outputs": [
    {
     "name": "stdin",
     "output_type": "stream",
     "text": [
      "Enter value of x 23\n",
      "Enter value of y 33\n",
      "Enter value of z 2\n"
     ]
    }
   ],
   "source": [
    "#############function###############\n",
    "#Write a Python function to find the Max of three numbers.\n",
    "#156\n",
    "def maxi(x,y,z):\n",
    "    if(x>y and x>z):\n",
    "        return(\"x is greatest\")\n",
    "    elif(y>x and y>z):\n",
    "        return(\"Y is greatest\")\n",
    "    else:\n",
    "        return(\"Z is greatest\")\n",
    "x=int(input(\"Enter value of x\"))\n",
    "y=int(input(\"Enter value of y\"))\n",
    "z=int(input(\"Enter value of z\"))\n",
    "maxi(x,y,z)\n"
   ]
  },
  {
   "cell_type": "code",
   "execution_count": 16,
   "id": "606d968d-057b-439a-a603-7433cbc044d3",
   "metadata": {},
   "outputs": [
    {
     "ename": "SyntaxError",
     "evalue": "invalid syntax (Temp/ipykernel_4180/2792667576.py, line 6)",
     "output_type": "error",
     "traceback": [
      "\u001b[1;36m  File \u001b[1;32m\"C:\\Users\\DELL\\AppData\\Local\\Temp/ipykernel_4180/2792667576.py\"\u001b[1;36m, line \u001b[1;32m6\u001b[0m\n\u001b[1;33m    return total=total+list(i)\u001b[0m\n\u001b[1;37m                ^\u001b[0m\n\u001b[1;31mSyntaxError\u001b[0m\u001b[1;31m:\u001b[0m invalid syntax\n"
     ]
    }
   ],
   "source": [
    "#157\n",
    "n=[8, 2, 3, 0, 7]\n",
    "def summ(n):\n",
    "    total=0\n",
    "    for i in range(0,len(n)):\n",
    "        return total=total+list(i)\n",
    "summ(n)\n",
    "    "
   ]
  },
  {
   "cell_type": "code",
   "execution_count": 8,
   "id": "a1aefaef-96a5-4747-8bc0-9826c6582c0a",
   "metadata": {},
   "outputs": [
    {
     "name": "stdout",
     "output_type": "stream",
     "text": [
      "* \n",
      "* * \n",
      "* * * \n",
      "* * * * \n",
      "* * * * * \n"
     ]
    }
   ],
   "source": [
    "#for triangle pattern \n",
    "for i in range(5):\n",
    "    for j in range(i+1):\n",
    "        print(\"*\",end=\" \")\n",
    "    print()"
   ]
  },
  {
   "cell_type": "code",
   "execution_count": 13,
   "id": "1e7f0f1e-7fb0-4d2e-a3a6-a6dab64fb51a",
   "metadata": {},
   "outputs": [
    {
     "name": "stdout",
     "output_type": "stream",
     "text": [
      "          * \n",
      "        * * \n",
      "      * * * \n",
      "    * * * * \n",
      "  * * * * * \n"
     ]
    }
   ],
   "source": [
    "#right side triangle\n",
    "n=5\n",
    "for i in range(n):\n",
    "    for j in range(i,n):\n",
    "        print(\" \",end=\" \")\n",
    "        \n",
    "    for j in range(i+1):\n",
    "        print(\"*\",end=\" \")\n",
    "    print()\n",
    "    \n"
   ]
  },
  {
   "cell_type": "code",
   "execution_count": 19,
   "id": "ee14876e-65cd-47d0-8e48-78f90bb50c32",
   "metadata": {},
   "outputs": [
    {
     "name": "stdout",
     "output_type": "stream",
     "text": [
      "  * * * * * \n",
      "    * * * * \n",
      "      * * * \n",
      "        * * \n",
      "          * \n"
     ]
    }
   ],
   "source": [
    "#right side triangle\n",
    "n=5\n",
    "for i in range(n):\n",
    "    for j in range(i+1):\n",
    "        print(\" \",end=\" \")\n",
    "    for j in range(i,n):\n",
    "        print(\"*\",end=\" \")\n",
    "    print()\n",
    "        \n",
    "    \n",
    "\n"
   ]
  },
  {
   "cell_type": "code",
   "execution_count": 1,
   "id": "5809120c-933e-421c-a3aa-2a9bb40d5a6a",
   "metadata": {},
   "outputs": [
    {
     "name": "stdout",
     "output_type": "stream",
     "text": [
      "A \n",
      "B C \n",
      "C D E \n",
      "D E F G \n",
      "E F G H I \n"
     ]
    }
   ],
   "source": [
    "#alphabets pattern\n",
    "n=5\n",
    "for i in range(n):\n",
    "    k=ord(\"A\")+i\n",
    "    for j in range(i+1):\n",
    "        print(chr(k),end=\" \")\n",
    "        k=k+1\n",
    "    print()"
   ]
  },
  {
   "cell_type": "code",
   "execution_count": 25,
   "id": "85324287-3bf2-4e44-96f5-c2e784bee38d",
   "metadata": {},
   "outputs": [
    {
     "name": "stdout",
     "output_type": "stream",
     "text": [
      "A \n",
      "C C \n",
      "E E E \n",
      "G G G G \n",
      "I I I I I \n"
     ]
    }
   ],
   "source": [
    "#Different pattern\n",
    "n=5\n",
    "k=ord(\"A\")\n",
    "for i in range(n):\n",
    "    for j in range(i+1):\n",
    "        print(chr(k),end=\" \")\n",
    "    k=k+2\n",
    "    print()\n",
    "    \n",
    "    "
   ]
  },
  {
   "cell_type": "code",
   "execution_count": 37,
   "id": "33ad456a-5346-4cc6-b603-20b168d601a9",
   "metadata": {},
   "outputs": [
    {
     "ename": "IndentationError",
     "evalue": "unindent does not match any outer indentation level (<tokenize>, line 8)",
     "output_type": "error",
     "traceback": [
      "\u001b[1;36m  File \u001b[1;32m\"<tokenize>\"\u001b[1;36m, line \u001b[1;32m8\u001b[0m\n\u001b[1;33m    else:\u001b[0m\n\u001b[1;37m    ^\u001b[0m\n\u001b[1;31mIndentationError\u001b[0m\u001b[1;31m:\u001b[0m unindent does not match any outer indentation level\n"
     ]
    }
   ],
   "source": [
    "n=5\n",
    "k=ord(\"A\")\n",
    "for i in range(n):\n",
    "    for j in range(i+1):\n",
    "         if i%2==0:\n",
    "            print(\"A\",end=\" \")\n",
    "        else:\n",
    "            print(\"B\",end=\" \")\n",
    "    print()"
   ]
  },
  {
   "cell_type": "code",
   "execution_count": 3,
   "id": "f1af56e1-a69e-4e41-a76d-20772fdd7420",
   "metadata": {},
   "outputs": [
    {
     "data": {
      "text/plain": [
       "1"
      ]
     },
     "execution_count": 3,
     "metadata": {},
     "output_type": "execute_result"
    }
   ],
   "source": [
    "abs(-1)\n",
    "\n"
   ]
  },
  {
   "cell_type": "code",
   "execution_count": 4,
   "id": "9a77d6b4-1e70-400c-96e7-8a0fe7768e99",
   "metadata": {},
   "outputs": [
    {
     "data": {
      "text/plain": [
       "88"
      ]
     },
     "execution_count": 4,
     "metadata": {},
     "output_type": "execute_result"
    }
   ],
   "source": [
    "ord(\"X\")"
   ]
  },
  {
   "cell_type": "code",
   "execution_count": 5,
   "id": "025c1899-4d9a-4026-9802-6a4c6728cac1",
   "metadata": {},
   "outputs": [
    {
     "data": {
      "text/plain": [
       "True"
      ]
     },
     "execution_count": 5,
     "metadata": {},
     "output_type": "execute_result"
    }
   ],
   "source": [
    "all((1,2,3,\" \"))\n"
   ]
  },
  {
   "cell_type": "code",
   "execution_count": 7,
   "id": "ed10b114-284b-4ebd-83b6-33f49f45cf5b",
   "metadata": {},
   "outputs": [
    {
     "data": {
      "text/plain": [
       "False"
      ]
     },
     "execution_count": 7,
     "metadata": {},
     "output_type": "execute_result"
    }
   ],
   "source": [
    "any((\"\",\"\",\"\"))"
   ]
  },
  {
   "cell_type": "code",
   "execution_count": 9,
   "id": "a6211efa-f31c-4d74-96a4-89426a3c9e48",
   "metadata": {},
   "outputs": [
    {
     "data": {
      "text/plain": [
       "'0b10100'"
      ]
     },
     "execution_count": 9,
     "metadata": {},
     "output_type": "execute_result"
    }
   ],
   "source": [
    "bin(3)\n",
    "bin(20)"
   ]
  },
  {
   "cell_type": "code",
   "execution_count": 13,
   "id": "dd4bb1b7-85fb-4d8e-a21d-543fc66e1695",
   "metadata": {},
   "outputs": [
    {
     "data": {
      "text/plain": [
       "(False, True)"
      ]
     },
     "execution_count": 13,
     "metadata": {},
     "output_type": "execute_result"
    }
   ],
   "source": [
    "bool(0),bool(10)"
   ]
  },
  {
   "cell_type": "code",
   "execution_count": 16,
   "id": "c9eb7fd6-d172-402a-beab-e2d62a39c3ce",
   "metadata": {},
   "outputs": [
    {
     "data": {
      "text/plain": [
       "True"
      ]
     },
     "execution_count": 16,
     "metadata": {},
     "output_type": "execute_result"
    }
   ],
   "source": [
    "a=10\n",
    "callable(int)"
   ]
  },
  {
   "cell_type": "code",
   "execution_count": 20,
   "id": "d8d331e0-48d9-476e-9e75-74718096a2b4",
   "metadata": {},
   "outputs": [
    {
     "data": {
      "text/plain": [
       "'B'"
      ]
     },
     "execution_count": 20,
     "metadata": {},
     "output_type": "execute_result"
    }
   ],
   "source": [
    "chr(66)"
   ]
  },
  {
   "cell_type": "code",
   "execution_count": 23,
   "id": "e036a4a1-a6c1-4092-8491-c1a89664042b",
   "metadata": {},
   "outputs": [
    {
     "ename": "SyntaxError",
     "evalue": "invalid syntax (Temp/ipykernel_7524/3612760359.py, line 2)",
     "output_type": "error",
     "traceback": [
      "\u001b[1;36m  File \u001b[1;32m\"C:\\Users\\DELL\\AppData\\Local\\Temp/ipykernel_7524/3612760359.py\"\u001b[1;36m, line \u001b[1;32m2\u001b[0m\n\u001b[1;33m    complex(3i+8j)\u001b[0m\n\u001b[1;37m             ^\u001b[0m\n\u001b[1;31mSyntaxError\u001b[0m\u001b[1;31m:\u001b[0m invalid syntax\n"
     ]
    }
   ],
   "source": [
    "complex(26,26.56)"
   ]
  },
  {
   "cell_type": "code",
   "execution_count": null,
   "id": "400be577-3b4d-4433-b55f-ae490e43796c",
   "metadata": {},
   "outputs": [],
   "source": [
    "a=dict([(1,\"hello\"),(2,4),(3,'t'),(2,\"hello\")])\n",
    "print(a)"
   ]
  },
  {
   "cell_type": "code",
   "execution_count": 30,
   "id": "44dde332-03b0-4af6-afc5-47e8b9d225be",
   "metadata": {},
   "outputs": [
    {
     "name": "stdout",
     "output_type": "stream",
     "text": [
      "25\n"
     ]
    }
   ],
   "source": [
    "exec('a=12;b=13;print(a+b)')"
   ]
  },
  {
   "cell_type": "code",
   "execution_count": 31,
   "id": "69fd6c8c-dbec-4e9e-a810-e4be5a158924",
   "metadata": {},
   "outputs": [
    {
     "name": "stdin",
     "output_type": "stream",
     "text": [
      "enter your program BYE\n"
     ]
    },
    {
     "ename": "NameError",
     "evalue": "name 'BYE' is not defined",
     "output_type": "error",
     "traceback": [
      "\u001b[1;31m---------------------------------------------------------------------------\u001b[0m",
      "\u001b[1;31mNameError\u001b[0m                                 Traceback (most recent call last)",
      "\u001b[1;32m~\\AppData\\Local\\Temp/ipykernel_7524/3154241520.py\u001b[0m in \u001b[0;36m<module>\u001b[1;34m\u001b[0m\n\u001b[1;32m----> 1\u001b[1;33m \u001b[0mexec\u001b[0m\u001b[1;33m(\u001b[0m\u001b[0minput\u001b[0m\u001b[1;33m(\u001b[0m\u001b[1;34m\"enter your program\"\u001b[0m\u001b[1;33m)\u001b[0m\u001b[1;33m)\u001b[0m\u001b[1;33m\u001b[0m\u001b[1;33m\u001b[0m\u001b[0m\n\u001b[0m",
      "\u001b[1;32m<string>\u001b[0m in \u001b[0;36m<module>\u001b[1;34m\u001b[0m\n",
      "\u001b[1;31mNameError\u001b[0m: name 'BYE' is not defined"
     ]
    }
   ],
   "source": [
    "exec(input(\"enter your program\"))"
   ]
  },
  {
   "cell_type": "code",
   "execution_count": 32,
   "id": "4413f5b9-6913-45ab-9de8-bf4dc03549b1",
   "metadata": {},
   "outputs": [
    {
     "data": {
      "text/plain": [
       "(2, 0)"
      ]
     },
     "execution_count": 32,
     "metadata": {},
     "output_type": "execute_result"
    }
   ],
   "source": [
    "divmod(12,6)"
   ]
  },
  {
   "cell_type": "code",
   "execution_count": 33,
   "id": "42297d65-6f09-4cd6-a35e-8642c5276338",
   "metadata": {},
   "outputs": [
    {
     "data": {
      "text/plain": [
       "455"
      ]
     },
     "execution_count": 33,
     "metadata": {},
     "output_type": "execute_result"
    }
   ],
   "source": [
    "x=5\n",
    "b=90\n",
    "eval('x+x*b')"
   ]
  },
  {
   "cell_type": "code",
   "execution_count": 36,
   "id": "95e701a2-0452-49dc-bd7f-88d69a6129c2",
   "metadata": {},
   "outputs": [
    {
     "data": {
      "text/plain": [
       "12.0"
      ]
     },
     "execution_count": 36,
     "metadata": {},
     "output_type": "execute_result"
    }
   ],
   "source": [
    "float(12)"
   ]
  },
  {
   "cell_type": "code",
   "execution_count": 42,
   "id": "729ad1d0-afe3-43d5-8d42-d6ae95b4323d",
   "metadata": {},
   "outputs": [
    {
     "name": "stdout",
     "output_type": "stream",
     "text": [
      "the value of a=10 and the value of b=13 and c=23\n"
     ]
    }
   ],
   "source": [
    "a=10\n",
    "b=13\n",
    "c=23\n",
    "print(\"the value of a={0} and the value of b={1} and c={2}\".format(a,b,c))"
   ]
  },
  {
   "cell_type": "code",
   "execution_count": 44,
   "id": "03eff467-186c-4006-bfb0-66b66bdd700b",
   "metadata": {},
   "outputs": [
    {
     "name": "stdout",
     "output_type": "stream",
     "text": [
      "\n",
      "Welcome to Python 3.9's help utility!\n",
      "\n",
      "If this is your first time using Python, you should definitely check out\n",
      "the tutorial on the Internet at https://docs.python.org/3.9/tutorial/.\n",
      "\n",
      "Enter the name of any module, keyword, or topic to get help on writing\n",
      "Python programs and using Python modules.  To quit this help utility and\n",
      "return to the interpreter, just type \"quit\".\n",
      "\n",
      "To get a list of available modules, keywords, symbols, or topics, type\n",
      "\"modules\", \"keywords\", \"symbols\", or \"topics\".  Each module also comes\n",
      "with a one-line summary of what it does; to list the modules whose name\n",
      "or summary contain a given string such as \"spam\", type \"modules spam\".\n",
      "\n"
     ]
    },
    {
     "name": "stdin",
     "output_type": "stream",
     "text": [
      "help>  keywords\n"
     ]
    },
    {
     "name": "stdout",
     "output_type": "stream",
     "text": [
      "\n",
      "Here is a list of the Python keywords.  Enter any keyword to get more help.\n",
      "\n",
      "False               break               for                 not\n",
      "None                class               from                or\n",
      "True                continue            global              pass\n",
      "__peg_parser__      def                 if                  raise\n",
      "and                 del                 import              return\n",
      "as                  elif                in                  try\n",
      "assert              else                is                  while\n",
      "async               except              lambda              with\n",
      "await               finally             nonlocal            yield\n",
      "\n"
     ]
    },
    {
     "name": "stdin",
     "output_type": "stream",
     "text": [
      "help>  thanks\n"
     ]
    },
    {
     "name": "stdout",
     "output_type": "stream",
     "text": [
      "No Python documentation found for 'thanks'.\n",
      "Use help() to get the interactive help utility.\n",
      "Use help(str) for help on the str class.\n",
      "\n"
     ]
    },
    {
     "name": "stdin",
     "output_type": "stream",
     "text": [
      "help>  exit\n"
     ]
    },
    {
     "name": "stdout",
     "output_type": "stream",
     "text": [
      "No Python documentation found for 'exit'.\n",
      "Use help() to get the interactive help utility.\n",
      "Use help(str) for help on the str class.\n",
      "\n"
     ]
    },
    {
     "name": "stdin",
     "output_type": "stream",
     "text": [
      "help>  esc\n"
     ]
    },
    {
     "name": "stdout",
     "output_type": "stream",
     "text": [
      "No Python documentation found for 'esc'.\n",
      "Use help() to get the interactive help utility.\n",
      "Use help(str) for help on the str class.\n",
      "\n"
     ]
    },
    {
     "name": "stdin",
     "output_type": "stream",
     "text": [
      "help>  quit\n"
     ]
    },
    {
     "name": "stdout",
     "output_type": "stream",
     "text": [
      "\n",
      "You are now leaving help and returning to the Python interpreter.\n",
      "If you want to ask for help on a particular object directly from the\n",
      "interpreter, you can type \"help(object)\".  Executing \"help('string')\"\n",
      "has the same effect as typing a particular string at the help> prompt.\n"
     ]
    }
   ],
   "source": [
    "help()"
   ]
  },
  {
   "cell_type": "code",
   "execution_count": 48,
   "id": "049b4a9c-c06a-43fe-8d67-dcde445298aa",
   "metadata": {},
   "outputs": [
    {
     "data": {
      "text/plain": [
       "2155161348688"
      ]
     },
     "execution_count": 48,
     "metadata": {},
     "output_type": "execute_result"
    }
   ],
   "source": [
    "c=\"hello\"\n",
    "b=10\n",
    "id(b)"
   ]
  },
  {
   "cell_type": "code",
   "execution_count": 3,
   "id": "2749814b-98bb-4de3-92eb-17cd8ce0af5b",
   "metadata": {},
   "outputs": [
    {
     "data": {
      "text/plain": [
       "0"
      ]
     },
     "execution_count": 3,
     "metadata": {},
     "output_type": "execute_result"
    }
   ],
   "source": [
    "int(False)"
   ]
  },
  {
   "cell_type": "code",
   "execution_count": 8,
   "id": "93096363-83f9-4444-8fdc-7a938f1e15cf",
   "metadata": {},
   "outputs": [
    {
     "name": "stdin",
     "output_type": "stream",
     "text": [
      "enter value 45\n"
     ]
    },
    {
     "data": {
      "text/plain": [
       "True"
      ]
     },
     "execution_count": 8,
     "metadata": {},
     "output_type": "execute_result"
    }
   ],
   "source": [
    "a=int(input(\"enter value\"))\n",
    "isinstance(1,int)"
   ]
  },
  {
   "cell_type": "code",
   "execution_count": 9,
   "id": "a0179f74-6fe7-4c59-b48f-b95085d42a66",
   "metadata": {},
   "outputs": [
    {
     "data": {
      "text/plain": [
       "4"
      ]
     },
     "execution_count": 9,
     "metadata": {},
     "output_type": "execute_result"
    }
   ],
   "source": [
    "len([1,2,2,4])"
   ]
  },
  {
   "cell_type": "code",
   "execution_count": 10,
   "id": "d2a4320a-a66a-4c69-a91f-ac878b455694",
   "metadata": {},
   "outputs": [
    {
     "data": {
      "text/plain": [
       "12"
      ]
     },
     "execution_count": 10,
     "metadata": {},
     "output_type": "execute_result"
    }
   ],
   "source": [
    "a=\"hello python\"\n",
    "len(a)"
   ]
  },
  {
   "cell_type": "code",
   "execution_count": 14,
   "id": "1fb59764-153a-4709-a751-787924509283",
   "metadata": {},
   "outputs": [
    {
     "data": {
      "text/plain": [
       "[1, 2, 2, 3, 45, 5]"
      ]
     },
     "execution_count": 14,
     "metadata": {},
     "output_type": "execute_result"
    }
   ],
   "source": [
    "list((1,2,2,3,45,5))"
   ]
  },
  {
   "cell_type": "code",
   "execution_count": 15,
   "id": "4168a3cb-2b50-4cfb-b8c2-fe9903f4d1ff",
   "metadata": {},
   "outputs": [
    {
     "data": {
      "text/plain": [
       "3433"
      ]
     },
     "execution_count": 15,
     "metadata": {},
     "output_type": "execute_result"
    }
   ],
   "source": [
    "max(3,3,5,6,6,7,5,3,334,34,3433,0)"
   ]
  },
  {
   "cell_type": "code",
   "execution_count": 16,
   "id": "02160d83-b1d5-4d74-ba39-42f48d26dfd8",
   "metadata": {},
   "outputs": [
    {
     "data": {
      "text/plain": [
       "3"
      ]
     },
     "execution_count": 16,
     "metadata": {},
     "output_type": "execute_result"
    }
   ],
   "source": [
    "min(3,3,5,6,6,7,5,3,334,34,3433)"
   ]
  },
  {
   "cell_type": "code",
   "execution_count": 17,
   "id": "61905b67-d2aa-4676-887d-da67d35e4028",
   "metadata": {},
   "outputs": [
    {
     "data": {
      "text/plain": [
       "27"
      ]
     },
     "execution_count": 17,
     "metadata": {},
     "output_type": "execute_result"
    }
   ],
   "source": [
    "pow(3,3)"
   ]
  },
  {
   "cell_type": "code",
   "execution_count": 25,
   "id": "3c212b4f-93e8-4363-bfbd-35e4f7671803",
   "metadata": {},
   "outputs": [
    {
     "name": "stdout",
     "output_type": "stream",
     "text": [
      "['l', 'i', 'h', 'k', 'i', 'N']\n"
     ]
    }
   ],
   "source": [
    "a=\"Nikhil\"\n",
    "b=list(reversed(a))\n",
    "print(b)"
   ]
  },
  {
   "cell_type": "code",
   "execution_count": 28,
   "id": "7f4e24d5-887f-49b9-913f-77be5c6970a3",
   "metadata": {},
   "outputs": [
    {
     "name": "stdout",
     "output_type": "stream",
     "text": [
      "47\n"
     ]
    }
   ],
   "source": [
    "a=round(46.57)\n",
    "print(a)"
   ]
  },
  {
   "cell_type": "code",
   "execution_count": 30,
   "id": "ea2ffa0c-4b0a-48a7-8cee-bf8292a3abdc",
   "metadata": {},
   "outputs": [
    {
     "data": {
      "text/plain": [
       "'0o144'"
      ]
     },
     "execution_count": 30,
     "metadata": {},
     "output_type": "execute_result"
    }
   ],
   "source": [
    "oct(100)"
   ]
  },
  {
   "cell_type": "code",
   "execution_count": 31,
   "id": "6ef63114-f1e5-429a-bfce-1264d0166fd7",
   "metadata": {},
   "outputs": [
    {
     "data": {
      "text/plain": [
       "42"
      ]
     },
     "execution_count": 31,
     "metadata": {},
     "output_type": "execute_result"
    }
   ],
   "source": [
    "sum([1,2,34,5])"
   ]
  },
  {
   "cell_type": "code",
   "execution_count": 33,
   "id": "109d53e8-f049-419a-84be-754e4f0f2f0e",
   "metadata": {},
   "outputs": [
    {
     "ename": "TypeError",
     "evalue": "'type' object is not subscriptable",
     "output_type": "error",
     "traceback": [
      "\u001b[1;31m---------------------------------------------------------------------------\u001b[0m",
      "\u001b[1;31mTypeError\u001b[0m                                 Traceback (most recent call last)",
      "\u001b[1;32m~\\AppData\\Local\\Temp/ipykernel_4952/2203893995.py\u001b[0m in \u001b[0;36m<module>\u001b[1;34m\u001b[0m\n\u001b[1;32m----> 1\u001b[1;33m \u001b[0msorted\u001b[0m\u001b[1;33m(\u001b[0m\u001b[0mreversed\u001b[0m\u001b[1;33m[\u001b[0m\u001b[1;36m1\u001b[0m\u001b[1;33m,\u001b[0m\u001b[1;36m5\u001b[0m\u001b[1;33m,\u001b[0m\u001b[1;36m4\u001b[0m\u001b[1;33m,\u001b[0m\u001b[1;36m88\u001b[0m\u001b[1;33m,\u001b[0m\u001b[1;36m56.89\u001b[0m\u001b[1;33m]\u001b[0m\u001b[1;33m)\u001b[0m\u001b[1;33m\u001b[0m\u001b[1;33m\u001b[0m\u001b[0m\n\u001b[0m",
      "\u001b[1;31mTypeError\u001b[0m: 'type' object is not subscriptable"
     ]
    }
   ],
   "source": [
    "sorted([1,5,4,88,56.89])\n"
   ]
  },
  {
   "cell_type": "code",
   "execution_count": 35,
   "id": "b430337e-c675-4839-8db0-0c24133cab1c",
   "metadata": {},
   "outputs": [
    {
     "data": {
      "text/plain": [
       "str"
      ]
     },
     "execution_count": 35,
     "metadata": {},
     "output_type": "execute_result"
    }
   ],
   "source": [
    "a=445\n",
    "b=str(a)\n",
    "type(b)"
   ]
  },
  {
   "cell_type": "code",
   "execution_count": 36,
   "id": "5ac00707-f51f-44b8-9b01-9b5520d3b48e",
   "metadata": {},
   "outputs": [
    {
     "name": "stdout",
     "output_type": "stream",
     "text": [
      "[1, 4, 9, 16, 25, 36, 49]\n"
     ]
    }
   ],
   "source": [
    "def fun1(a):\n",
    "    return a*a\n",
    "x=list(map(fun1,(1,2,3,4,5,6,7)))\n",
    "print(x)\n"
   ]
  },
  {
   "cell_type": "code",
   "execution_count": 37,
   "id": "35859795-af4c-4685-a11f-1346985b62ca",
   "metadata": {},
   "outputs": [
    {
     "name": "stdout",
     "output_type": "stream",
     "text": [
      "['HELLO', 'PYTHON', 'NIKHIL RANA']\n"
     ]
    }
   ],
   "source": [
    "b=[\"hello\",\"python\",\"Nikhil Rana\"]\n",
    "a=list(map(str.upper,b))\n",
    "print(a)"
   ]
  },
  {
   "cell_type": "code",
   "execution_count": 48,
   "id": "ed86fe26-c389-497b-9126-558dc730c9fe",
   "metadata": {},
   "outputs": [
    {
     "name": "stdout",
     "output_type": "stream",
     "text": [
      "[2, 4, 6]\n"
     ]
    }
   ],
   "source": [
    "def even(x):\n",
    "    if x % 2==0:\n",
    "        return x\n",
    "    \n",
    "y=list(filter(even,(1,2,3,4,5,6)))\n",
    "print(y)\n"
   ]
  },
  {
   "cell_type": "code",
   "execution_count": 50,
   "id": "18910953-7eef-458e-ba61-f2cebe14b0ef",
   "metadata": {},
   "outputs": [
    {
     "name": "stdout",
     "output_type": "stream",
     "text": [
      "[66, 78, 88, 90, 87, 76, 65]\n"
     ]
    }
   ],
   "source": [
    "scores=[66,56,43,78,45,88,90,87,76,55,65]\n",
    "\n",
    "def std(a):\n",
    "    return a > 60\n",
    "above_60f=list(filter(std,scores))\n",
    "print(above_60)"
   ]
  },
  {
   "cell_type": "code",
   "execution_count": 1,
   "id": "007c1e66-7fef-4b36-a66d-062893c74b5a",
   "metadata": {},
   "outputs": [
    {
     "data": {
      "text/plain": [
       "5"
      ]
     },
     "execution_count": 1,
     "metadata": {},
     "output_type": "execute_result"
    }
   ],
   "source": [
    "max(3,4,5)"
   ]
  },
  {
   "cell_type": "code",
   "execution_count": 3,
   "id": "1c7004bc-b228-4503-81d1-a173e4276221",
   "metadata": {},
   "outputs": [
    {
     "data": {
      "text/plain": [
       "20"
      ]
     },
     "execution_count": 3,
     "metadata": {},
     "output_type": "execute_result"
    }
   ],
   "source": [
    "list_1=[8,2,3,0,7]\n",
    "sum(list_1)\n",
    "    "
   ]
  },
  {
   "cell_type": "code",
   "execution_count": null,
   "id": "d17d5354-806d-4dd6-b272-499fa8a21951",
   "metadata": {},
   "outputs": [],
   "source": [
    "#reverse number\n",
    "n=int(input(\"Enter a number\"))\n",
    "s=0\n",
    "while(n>0):\n",
    "    d=n//10\n",
    "    s=s*10+d\n",
    "    n=n%10\n",
    "print(s)"
   ]
  },
  {
   "cell_type": "code",
   "execution_count": 27,
   "id": "6cdbea72",
   "metadata": {},
   "outputs": [
    {
     "name": "stdout",
     "output_type": "stream",
     "text": [
      "Enter name:-gr\n",
      "enter age:-56\n",
      "Enter marks:-7\n",
      "Enter course:-y\n",
      "Enter name:-y\n",
      "enter age:-6\n",
      "name= y\n",
      "Age= 6\n",
      "course= y\n"
     ]
    }
   ],
   "source": [
    "class person():\n",
    "    def details(self):\n",
    "        self.name=input(\"Enter name:-\")\n",
    "        self.age=int(input(\"enter age:-\"))\n",
    "    def display(self):\n",
    "        print(\"name=\",self.name)\n",
    "        print(\"Age=\",self.age)\n",
    "class teacher(person):\n",
    "    \n",
    "    def display(self):\n",
    "        super().display()\n",
    "        print(\"Experience=\",self.exp)\n",
    "class student(person):\n",
    "    def details(self):\n",
    "        person.details(self)\n",
    "        self.marks=int(input(\"Enter marks:-\"))\n",
    "        self.course=input(\"Enter course:-\")\n",
    "    def display(self):\n",
    "        super().details()\n",
    "        super().display()\n",
    "        print(\"course=\",self.course)\n",
    "\n",
    "s=student()\n",
    "s.details()\n",
    "s.display()"
   ]
  },
  {
   "cell_type": "code",
   "execution_count": null,
   "id": "cc883c0f",
   "metadata": {},
   "outputs": [],
   "source": []
  }
 ],
 "metadata": {
  "kernelspec": {
   "display_name": "Python 3 (ipykernel)",
   "language": "python",
   "name": "python3"
  },
  "language_info": {
   "codemirror_mode": {
    "name": "ipython",
    "version": 3
   },
   "file_extension": ".py",
   "mimetype": "text/x-python",
   "name": "python",
   "nbconvert_exporter": "python",
   "pygments_lexer": "ipython3",
   "version": "3.9.7"
  }
 },
 "nbformat": 4,
 "nbformat_minor": 5
}
